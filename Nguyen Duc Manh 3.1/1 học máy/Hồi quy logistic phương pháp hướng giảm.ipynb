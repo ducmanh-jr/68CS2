{
 "cells": [
  {
   "cell_type": "markdown",
   "id": "bb4c7686",
   "metadata": {},
   "source": [
    "<p><b><i><pre><span style=\"color:#ADD8E6;font-size:0.75em;\">\n",
    "Đề bài: Xây dựng Hồi quy Logistic từ cơ bản bằng Phương pháp Hướng giảm Gradient\n",
    "Mục tiêu: Sử dụng các thư viện numpy và matplotlib để tự xây dựng một mô hình Hồi quy Logistic từ đầu, không sử dụng các hàm có sẵn của scikit-learn hoặc scipy.optimize. Thay vào đó, bạn sẽ tự lập trình thuật toán hướng giảm gradient để tìm các tham số tối ưu cho mô hình.\n",
    "Yêu cầu:\n",
    "1 Khởi tạo dữ liệu:\n",
    "- Cho tập dữ liệu đầu vào X và nhãn Y như đã cho trong mã.\n",
    "- Thêm một cột giá trị 1 (hệ số tự do/bias) vào dữ liệu X.\n",
    "2 Định nghĩa hàm:\n",
    "- Viết hàm sigmoid(z) để tính hàm kích hoạt Sigmoid.\n",
    "- Viết hàm loss(w) để tính hàm mất mát cross-entropy.\n",
    "- Viết hàm gradient(w) để tính đạo hàm của hàm mất mát.\n",
    "3 Áp dụng thuật toán:\n",
    "- Khởi tạo một vector trọng số w ban đầu với các giá trị bằng 0.\n",
    "- Thiết lập các siêu tham số (hyperparameters) như tốc độ học (learning_rate), sai số chấp nhận (tolerance) và số lần lặp tối đa (max_iters).\n",
    "- Sử dụng một vòng lặp while để thực hiện thuật toán hướng giảm gradient: cập nhật trọng số w theo hướng ngược lại của gradient cho đến khi đạt được điều kiện dừng (gradient đủ nhỏ hoặc đạt số lần lặp tối đa).\n",
    "4 Dự đoán và trực quan hóa:\n",
    "- Sử dụng vector trọng số w đã tìm được để dự đoán nhãn cho một điểm mới có tọa độ (1, 4).\n",
    "- Tính toán phương trình của đường phân tách (decision boundary).\n",
    "- Vẽ một biểu đồ trực quan, hiển thị các điểm dữ liệu ban đầu, điểm dự đoán, và đường phân tách của mô hình."
   ]
  },
  {
   "cell_type": "code",
   "execution_count": 2,
   "id": "3b56a16b",
   "metadata": {},
   "outputs": [
    {
     "data": {
      "image/png": "[encoded data removed]",
      "text/plain": [
       "<Figure size 640x480 with 1 Axes>"
      ]
     },
     "metadata": {},
     "output_type": "display_data"
    }
   ],
   "source": [
    "import numpy as np\n",
    "import matplotlib.pyplot as plt\n",
    "\n",
    "X = np.array([[1, 2],\n",
    "              [2, 3],\n",
    "              [3, 1],\n",
    "              [2, 5],\n",
    "              [4, 3]])\n",
    "Y = np.array([1, 1, 1, 0, 0])\n",
    "\n",
    "X = np.concatenate((np.ones(shape=(len(X), 1)),\n",
    "                    X), axis=1)\n",
    "\n",
    "def sigmoid(z):\n",
    "    return 1 / (1 + np.exp(-z))\n",
    "\n",
    "def loss(w):\n",
    "    L = 0\n",
    "    for x, y in zip(X, Y):\n",
    "        if y == 0:\n",
    "            L += -np.log(1 - sigmoid(np.dot(w, x)))\n",
    "        else:\n",
    "            L += -np.log(sigmoid(np.dot(w, x)))\n",
    "    return L / len(X)\n",
    "\n",
    "def gradient(w):\n",
    "    G = 0\n",
    "    for x, y in zip(X, Y):\n",
    "        G += (sigmoid(np.dot(w, x)) - y) * x\n",
    "    return G / len(X)\n",
    "\n",
    "# Phương pháp hướng giảm\n",
    "w0 = np.zeros(X.shape[1])\n",
    "learning_rate = 0.1\n",
    "tolerance = 1e-5\n",
    "max_iters = 1e4\n",
    "\n",
    "w = w0\n",
    "num_iters = 0\n",
    "loss_history = [loss(w)]\n",
    "\n",
    "while True:\n",
    "    num_iters += 1\n",
    "    w -= learning_rate * gradient(w)\n",
    "    loss_history.append(loss(w))\n",
    "\n",
    "    if np.linalg.norm(gradient(w)) < tolerance or num_iters == max_iters:\n",
    "        break\n",
    "\n",
    "num_iters\n",
    "w\n",
    "loss_history\n",
    "\n",
    "x_pred = np.array([1, 1, 4])\n",
    "prob_pred = sigmoid(np.dot(w, x_pred))\n",
    "y_pred = 1 if prob_pred >= 0.5 else 0\n",
    "\n",
    "a = -w[1] / w[2]\n",
    "b = -w[0] / w[2]\n",
    "\n",
    "plt.figure()\n",
    "\n",
    "plt.scatter(X[Y == 1][:, 1], X[Y == 1][:, 2],\n",
    "            color='blue', label='Nhãn 1')\n",
    "plt.scatter(X[Y == 0][:, 1], X[Y == 0][:, 2],\n",
    "            color='red', label='Nhãn 0')\n",
    "plt.scatter(x_pred[1], x_pred[2], color='purple',\n",
    "            marker='x', s=100)\n",
    "\n",
    "X1 = np.linspace(0, 5, 100)\n",
    "X2 = a * X1 + b\n",
    "plt.plot(X1, X2, color='green')\n",
    "plt.show()"
   ]
  }
 ],
 "metadata": {
  "kernelspec": {
   "display_name": "Python 3",
   "language": "python",
   "name": "python3"
  },
  "language_info": {
   "codemirror_mode": {
    "name": "ipython",
    "version": 3
   },
   "file_extension": ".py",
   "mimetype": "text/x-python",
   "name": "python",
   "nbconvert_exporter": "python",
   "pygments_lexer": "ipython3",
   "version": "3.13.3"
  }
 },
 "nbformat": 4,
 "nbformat_minor": 5
}
