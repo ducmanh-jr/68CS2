{
 "cells": [
  {
   "cell_type": "code",
   "execution_count": null,
   "id": "2269efd3",
   "metadata": {},
   "outputs": [],
   "source": [
    "X = np.array([[1, 9], [2, 6], [2, 8], [3, 9], [2, 2], [3, 3], [4, 1], [5, 2], [5, 4], [8, 1]] ) Y = np.array([1, 1, 1, 1, 0, 0, 0, 0, 0, 0]) \n",
    "viết bài toán tối ưu tham số tối ưu và các thành phần khác trong bài toán\n",
    "tính gradient của hàm mục tiêu từ đó viết ra công thức lặp của pp hướng giảm với 100000 vòng kặp tốc độ học 10-3 xấp xỉ bân đầu w(0) = 0\n",
    "1, xác định xác xuất diểm dự báo (6,2) thuộc lớp 1 \n",
    "2, xác định đường phân tách \n",
    "tính ma trận hess của hàm mực tiêu , từ đó viết công thức lặp của pp newton raphson với 1000 vòng lặp xấp xỉ ban đầu w(0)=0 điều kiên dừng ||w(k)-w(k-1)||< 10-6 \n",
    "xác định xác xuất dự báo điewmr 3,7 thuộc lớp 0 \n",
    "zá định đường phân tách b + w1x1 + w2x2 = 0 \n",
    "\n",
    "câu b \n",
    "xác định xác xuất dự báo điewmr 3,7 thuộc lớp 0 \n",
    "zá định đường phân tách b + w1x1 + w2x2 = 0 \n",
    "sklearn LogisticRegressio\n"
   ]
  }
 ],
 "metadata": {
  "kernelspec": {
   "display_name": "Python 3",
   "language": "python",
   "name": "python3"
  },
  "language_info": {
   "name": "python",
   "version": "3.11.9"
  }
 },
 "nbformat": 4,
 "nbformat_minor": 5
}
